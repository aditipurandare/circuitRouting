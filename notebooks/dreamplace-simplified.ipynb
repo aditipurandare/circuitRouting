{
 "cells": [
  {
   "cell_type": "markdown",
   "metadata": {},
   "source": [
    "# DreamPlace Algorithms"
   ]
  },
  {
   "cell_type": "markdown",
   "metadata": {},
   "source": [
    "This notebook tries to reproduce some of the functionality of\n",
    "the DreamPlace paper\n",
    "\n",
    "There there are three important algorithms:\n",
    "\n",
    "* Global Placement (GP)\n",
    "* Legalization (LG)\n",
    "* Detailed Placement (DP)\n",
    "\n",
    "OBS: Implementation below only talk about x direction. The same can be achieve for the y direction."
   ]
  },
  {
   "cell_type": "markdown",
   "metadata": {},
   "source": [
    "### Notations:\n",
    "\n",
    "* V : set of cells\n",
    "* P : set of pins\n",
    "* E : set of nets\n",
    "* B : set of bins\n",
    "\n",
    "\n",
    "* $x_e^+$ : $max_{i \\in e} x_i, \\forall e \\in E$\n",
    "* $x_e^-$ : $min_{i \\in e} x_i, \\forall e \\in E$\n",
    "\n",
    "\n",
    "* $a_i^+$ : $e^\\frac{x_i-x_e^+}{\\gamma}, \\forall i\\in e, e \\in E$\n",
    "* $a_i^-$ : $e^\\frac{x_i-x_e^-}{\\gamma}, \\forall i\\in e, e \\in E$\n",
    "\n",
    "\n",
    "* $b_e^+$ : $\\sum_{i \\in e}  a^+, \\forall e \\in E$\n",
    "* $b_e^-$ : $\\sum_{i \\in e}  a^-, \\forall e \\in E$\n",
    "\n",
    "\n",
    "* $c_e^+$ : $\\sum_{i \\in e} x_i a^+, \\forall e \\in E$\n",
    "* $c_e^-$ : $\\sum_{i \\in e} x_i a^-, \\forall e \\in E$\n",
    "\n",
    "\n",
    "* $\\vec x^+$ : $\\{x_e^+\\}, \\forall e \\in E$\n",
    "* $\\vec x^-$ : $\\{x_e^-\\}, \\forall e \\in E$\n",
    "\n",
    "\n",
    "* $\\vec a^+$ : $\\{a_e^+\\}, \\forall e \\in P$\n",
    "* $\\vec a^-$ : $\\{a_e^-\\}, \\forall i \\in P$\n",
    "\n",
    "\n",
    "* $\\vec b^+$ : $\\{b_e^+\\}, \\forall e \\in E$\n",
    "* $\\vec b^-$ : $\\{b_e^-\\}, \\forall e \\in E$\n",
    "\n",
    "\n",
    "* $\\vec c^+$ : $\\{c_e^+\\}, \\forall e \\in E$\n",
    "* $\\vec c^-$ : $\\{c_e^-\\}, \\forall e \\in E$"
   ]
  },
  {
   "cell_type": "markdown",
   "metadata": {},
   "source": [
    "### Process\n",
    "\n",
    "With the variables below, the GP problem becomes:\n",
    "\n",
    "* $WL$ - Function that calculates Wirelength cost function\n",
    "  * Takes any net $e$ and returns wirelenght\n",
    "* $D$ -  Regularization function (density penalty to spread out cells)\n",
    "\n",
    "$min(\\sum_{e\\in E} WL(e;\\vec{x},\\vec{y} +\\alpha D(\\vec{x},\\vec{y})$"
   ]
  },
  {
   "cell_type": "code",
   "execution_count": 2,
   "metadata": {},
   "outputs": [],
   "source": [
    "# TODO"
   ]
  },
  {
   "cell_type": "markdown",
   "metadata": {},
   "source": [
    "Actual used formula: Weighted-average wirelength\n",
    "\n",
    "$WA_e=\\frac{\\sum_{i \\in e} x_i e^{\\frac{x_i}{\\gamma}}}{\\sum_{i \\in e} e^{\\frac{x_i}{\\gamma}}}$\n",
    "$-\\frac{\\sum_{i \\in e} x_i e^{\\frac{-x_i}{\\gamma}}}{\\sum_{i \\in e} e^{\\frac{-x_i}{\\gamma}}}$\n",
    "\n",
    "\n",
    "With:\n",
    "\n",
    "* $\\gamma$ - parameter to control the smoothness and accuracy of the approximation to half-permieter wirelenght (HPWL)"
   ]
  },
  {
   "cell_type": "code",
   "execution_count": 3,
   "metadata": {},
   "outputs": [],
   "source": [
    "# TODO"
   ]
  },
  {
   "cell_type": "markdown",
   "metadata": {},
   "source": [
    "### Steps:\n",
    "\n",
    "Initial placement: Standard cells are placed in the center of the layout with a small Gaussian noise.\n",
    "The scales of noise are set to 0.1% of the width and height of the placement region in the experiment.\n",
    "\n",
    "\n",
    "GP: GlobalPlacement Iterations: Loop that involves the computation of wirelength and density gradient, optimization engines, and cell location updating.\n",
    "\n",
    "LG: Legalization is performed to remove remaining overlaps and align cells to placements sites\n",
    "\n",
    "DP: Detailed placement to refine the placement solutions using NTUplace3."
   ]
  },
  {
   "cell_type": "code",
   "execution_count": 4,
   "metadata": {},
   "outputs": [],
   "source": [
    "# TODO"
   ]
  },
  {
   "cell_type": "code",
   "execution_count": null,
   "metadata": {},
   "outputs": [],
   "source": []
  }
 ],
 "metadata": {
  "kernelspec": {
   "display_name": "Python 3",
   "language": "python",
   "name": "python3"
  },
  "language_info": {
   "codemirror_mode": {
    "name": "ipython",
    "version": 3
   },
   "file_extension": ".py",
   "mimetype": "text/x-python",
   "name": "python",
   "nbconvert_exporter": "python",
   "pygments_lexer": "ipython3",
   "version": "3.7.6-final"
  }
 },
 "nbformat": 4,
 "nbformat_minor": 4
}