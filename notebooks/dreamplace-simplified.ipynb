{
 "cells": [
  {
   "cell_type": "code",
   "execution_count": 1,
   "metadata": {},
   "outputs": [
    {
     "data": {
      "text/html": [
       "<style>.container { width:95% !important; }</style>"
      ],
      "text/plain": [
       "<IPython.core.display.HTML object>"
      ]
     },
     "metadata": {},
     "output_type": "display_data"
    }
   ],
   "source": [
    "from IPython.core.display import display, HTML\n",
    "display(HTML(\"<style>.container { width:95% !important; }</style>\"))\n",
    "\n",
    "# Lines below allow to import modules of this project\n",
    "import os\n",
    "import sys\n",
    "module_path = os.path.abspath(os.path.join('..'))\n",
    "if module_path not in sys.path:\n",
    "    sys.path.append(module_path)"
   ]
  },
  {
   "cell_type": "code",
   "execution_count": 2,
   "metadata": {},
   "outputs": [],
   "source": [
    "import random\n",
    "import string\n",
    "import itertools\n",
    "\n",
    "import numpy as np\n",
    "import pandas as pd\n",
    "\n",
    "from matplotlib import pyplot as plt\n",
    "from matplotlib.patches import Rectangle\n",
    "import seaborn as sns\n",
    "sns.set()"
   ]
  },
  {
   "cell_type": "markdown",
   "metadata": {},
   "source": [
    "# DreamPlace Algorithms"
   ]
  },
  {
   "cell_type": "markdown",
   "metadata": {},
   "source": [
    "This notebook tries to reproduce some of the functionality of\n",
    "the DreamPlace paper\n",
    "\n",
    "There there are three important algorithms:\n",
    "\n",
    "* Global Placement (GP)\n",
    "* Legalization (LG)\n",
    "* Detailed Placement (DP)\n",
    "\n",
    "OBS: Implementation below only talk about x direction. The same can be achieve for the y direction."
   ]
  },
  {
   "cell_type": "markdown",
   "metadata": {},
   "source": [
    "### Notations:\n",
    "\n",
    "* V : set of cells\n",
    "* P : set of pins $t$ or $i$\n",
    "* E : set of nets $e$\n",
    "* B : set of bins\n",
    "\n",
    "\n",
    "* $x_e^+$ : $max_{i \\in e} x_i, \\forall e \\in E$\n",
    "* $x_e^-$ : $min_{i \\in e} x_i, \\forall e \\in E$\n",
    "\n",
    "\n",
    "* $a_i^+$ : $e^\\frac{x_i-x_e^+}{\\gamma}, \\forall i\\in e, e \\in E$\n",
    "* $a_i^-$ : $e^\\frac{x_i-x_e^-}{\\gamma}, \\forall i\\in e, e \\in E$\n",
    "\n",
    "\n",
    "* $b_e^+$ : $\\sum_{i \\in e}  a^+, \\forall e \\in E$\n",
    "* $b_e^-$ : $\\sum_{i \\in e}  a^-, \\forall e \\in E$\n",
    "\n",
    "\n",
    "* $c_e^+$ : $\\sum_{i \\in e} x_i a^+, \\forall e \\in E$\n",
    "* $c_e^-$ : $\\sum_{i \\in e} x_i a^-, \\forall e \\in E$\n",
    "\n",
    "\n",
    "* $\\vec x^+$ : $\\{x_e^+\\}, \\forall e \\in E$\n",
    "* $\\vec x^-$ : $\\{x_e^-\\}, \\forall e \\in E$\n",
    "\n",
    "\n",
    "* $\\vec a^+$ : $\\{a_i^+\\}, \\forall i \\in P$\n",
    "* $\\vec a^-$ : $\\{a_i^-\\}, \\forall i \\in P$\n",
    "\n",
    "\n",
    "* $\\vec b^+$ : $\\{b_e^+\\}, \\forall e \\in E$\n",
    "* $\\vec b^-$ : $\\{b_e^-\\}, \\forall e \\in E$\n",
    "\n",
    "\n",
    "* $\\vec c^+$ : $\\{c_e^+\\}, \\forall e \\in E$\n",
    "* $\\vec c^-$ : $\\{c_e^-\\}, \\forall e \\in E$"
   ]
  },
  {
   "cell_type": "code",
   "execution_count": 12,
   "metadata": {},
   "outputs": [],
   "source": [
    "def x_e_p (net_id, pins, locations):\n",
    "    return np.max(np.multiply(pins,locations))\n",
    "\n",
    "def x_e_m (net_id, pins, locations):\n",
    "    return np.min(np.multiply(pins,locations))\n",
    "\n",
    "def a_i_p (net_id, pins):\n",
    "    return np.max(pins.x)\n",
    "\n",
    "def a_i_m (net_id, pins):\n",
    "    return np.min(pins.x)"
   ]
  },
  {
   "cell_type": "markdown",
   "metadata": {},
   "source": [
    "### Process\n",
    "\n",
    "With the variables below, the GP problem becomes:\n",
    "\n",
    "* $WL$ - Function that calculates Wirelength cost function\n",
    "  * Takes any net $e$ and returns wirelenght\n",
    "* $D$ -  Regularization function (density penalty to spread out cells)\n",
    "\n",
    "$min(\\sum_{e\\in E} WL(e;\\vec{x},\\vec{y} +\\alpha D(\\vec{x},\\vec{y})$"
   ]
  },
  {
   "cell_type": "code",
   "execution_count": 5,
   "metadata": {},
   "outputs": [],
   "source": [
    "# TODO"
   ]
  },
  {
   "cell_type": "markdown",
   "metadata": {},
   "source": [
    "Actual used formula: Weighted-average wirelength\n",
    "\n",
    "$WA_e=\\frac{\\sum_{i \\in e} x_i e^{\\frac{x_i}{\\gamma}}}{\\sum_{i \\in e} e^{\\frac{x_i}{\\gamma}}}$\n",
    "$-\\frac{\\sum_{i \\in e} x_i e^{\\frac{-x_i}{\\gamma}}}{\\sum_{i \\in e} e^{\\frac{-x_i}{\\gamma}}}$\n",
    "\n",
    "\n",
    "With:\n",
    "\n",
    "* $\\gamma$ - parameter to control the smoothness and accuracy of the approximation to half-permieter wirelenght (HPWL)"
   ]
  },
  {
   "cell_type": "markdown",
   "metadata": {},
   "source": [
    "Its derivative is given by:\n",
    "\n",
    "$\\frac{\\delta WL_e}{\\delta x_i} =$\n",
    "$\\frac{(1+\\frac{x_i}{\\gamma})b_e^+ -\\frac{1}{\\gamma}c_e^+}{(b_e^+)^2}\\cdot a_i^+$\n",
    "$-\\frac{(1-\\frac{x_i}{\\gamma})b_e^- +\\frac{1}{\\gamma}c_e^-}{(b_e^-)^2}\\cdot a_i^-$"
   ]
  },
  {
   "cell_type": "code",
   "execution_count": 6,
   "metadata": {},
   "outputs": [],
   "source": [
    "# TODO"
   ]
  },
  {
   "cell_type": "markdown",
   "metadata": {},
   "source": [
    "### Steps:\n",
    "\n",
    "Initial placement: Standard cells are placed in the center of the layout with a small Gaussian noise.\n",
    "The scales of noise are set to 0.1% of the width and height of the placement region in the experiment.\n",
    "\n",
    "\n",
    "GP: GlobalPlacement Iterations: Loop that involves the computation of wirelength and density gradient, optimization engines, and cell location updating.\n",
    "\n",
    "LG: Legalization is performed to remove remaining overlaps and align cells to placements sites\n",
    "\n",
    "DP: Detailed placement to refine the placement solutions using NTUplace3."
   ]
  },
  {
   "cell_type": "code",
   "execution_count": 7,
   "metadata": {},
   "outputs": [],
   "source": [
    "# TODO"
   ]
  },
  {
   "cell_type": "markdown",
   "metadata": {},
   "source": [
    "# Data generation"
   ]
  },
  {
   "cell_type": "code",
   "execution_count": 4,
   "metadata": {},
   "outputs": [],
   "source": [
    "def get_adjacency_matrix(net_matrix):\n",
    "    \"\"\"Returns adjacency matrix based on nets matrix\"\"\"\n",
    "    N_NETS=net_matrix.shape[0]\n",
    "    N_COMPONENTS=net_matrix.shape[1]\n",
    "    \n",
    "    adjacency_matrix=np.zeros(shape=(N_COMPONENTS,N_COMPONENTS))\n",
    "    for net_idx in range (N_NETS):\n",
    "        to_connect=[]\n",
    "        for pin_idx in range (N_COMPONENTS):\n",
    "            if net_matrix[net_idx,pin_idx]==1 :\n",
    "                to_connect.append(pin_idx)\n",
    "\n",
    "        index_list = [index for index in itertools.product(to_connect, to_connect)]\n",
    "\n",
    "        for index in index_list:            \n",
    "            adjacency_matrix[index]=1\n",
    "    \n",
    "    adjacency_matrix[np.identity(N_COMPONENTS, dtype=bool)]=0 # componets do not connect to themselves\n",
    "    return adjacency_matrix"
   ]
  },
  {
   "cell_type": "code",
   "execution_count": 4,
   "metadata": {},
   "outputs": [],
   "source": [
    "from datagem.datagem import generate_random_name,generate_random_position,generate_random_sizes\n",
    "from board.utils import get_adjacency_matrix"
   ]
  },
  {
   "cell_type": "code",
   "execution_count": 5,
   "metadata": {},
   "outputs": [
    {
     "name": "stdout",
     "output_type": "stream",
     "text": [
      "YGV_81\n",
      "(190.0, 137.0)\n",
      "(4.0, 6.0)\n",
      "(4.0, 5.0)\n"
     ]
    }
   ],
   "source": [
    "print(generate_random_name())\n",
    "print(generate_random_position())\n",
    "print(generate_random_sizes())\n",
    "print(generate_random_sizes(mode='triangular'))"
   ]
  },
  {
   "cell_type": "markdown",
   "metadata": {},
   "source": [
    "### Generate Important Arrays"
   ]
  },
  {
   "cell_type": "code",
   "execution_count": 20,
   "metadata": {},
   "outputs": [],
   "source": [
    "# Here we consider that we have a set of V cells first allocated at random position on a \n",
    "# 200mm X 200mm grid\n",
    "grid_dim = (200,200)\n",
    "N_COMPONENTS=10\n",
    "N_NETS=np.int(np.floor(N_COMPONENTS*.4))\n",
    "connection_density=.2\n",
    "\n",
    "# Generate Components names\n",
    "components_set = {generate_random_name() for x in range(N_COMPONENTS)}\n",
    "\n",
    "# Generate nets_matrix\n",
    "net_matrix=np.random.choice([0, 1], size=(N_NETS,N_COMPONENTS), p=[1-connection_density, connection_density])\n",
    "\n",
    "# Compute Adjacency Matrix from net matrix\n",
    "adjacency_matrix=get_adjacency_matrix(net_matrix)\n",
    "\n",
    "# Generate Componenets X,Y valuesmode\n",
    "position_array = np.array([generate_random_position(mode='gaussian',sigma=25) for _ in range(N_COMPONENTS)])\n",
    "#position_array = np.array([generate_random_position(mode='uniform') for _ in range(N_COMPONENTS)])\n",
    "\n",
    "# Generate Compinents Sizes W and H (size_x,size_y)\n",
    "dimension_array = np.array([generate_random_sizes(5,30,mode='triangular') for _ in range(N_COMPONENTS)])"
   ]
  },
  {
   "cell_type": "code",
   "execution_count": 21,
   "metadata": {},
   "outputs": [
    {
     "name": "stdout",
     "output_type": "stream",
     "text": [
      "\n",
      "components_set (number_of_components)\n",
      "{'QMR_37', 'XNH_63', 'DNX_88', 'KCC_19', 'BOR_97', 'EIS_55', 'CJQ_70', 'GOT_07', 'OWB_23', 'YFI_69'}\n",
      "\n",
      "net_matrix (number_of_nets,number_of_components)\n",
      "[[1 1 1 0 0 0 0 0 0 1]\n",
      " [0 0 0 0 0 0 1 0 0 0]\n",
      " [0 0 0 0 0 0 1 0 0 0]\n",
      " [0 0 1 0 0 0 1 0 1 0]]\n",
      "\n",
      "adjacency_matrix (number_of_components,number_of_components)\n",
      "[[0. 1. 1. 0. 0. 0. 0. 0. 0. 1.]\n",
      " [1. 0. 1. 0. 0. 0. 0. 0. 0. 1.]\n",
      " [1. 1. 0. 0. 0. 0. 1. 0. 1. 1.]\n",
      " [0. 0. 0. 0. 0. 0. 0. 0. 0. 0.]\n",
      " [0. 0. 0. 0. 0. 0. 0. 0. 0. 0.]\n",
      " [0. 0. 0. 0. 0. 0. 0. 0. 0. 0.]\n",
      " [0. 0. 1. 0. 0. 0. 0. 0. 1. 0.]\n",
      " [0. 0. 0. 0. 0. 0. 0. 0. 0. 0.]\n",
      " [0. 0. 1. 0. 0. 0. 1. 0. 0. 0.]\n",
      " [1. 1. 1. 0. 0. 0. 0. 0. 0. 0.]]\n",
      "\n",
      "position_array (number_of_components,2)\n",
      "[[ 85.  43.]\n",
      " [ 80.  63.]\n",
      " [121. 163.]\n",
      " [118. 122.]\n",
      " [ 90.  85.]\n",
      " [109.  84.]\n",
      " [134. 127.]\n",
      " [ 90. 125.]\n",
      " [110. 148.]\n",
      " [ 68.  52.]]\n",
      "\n",
      "dimension_array (number_of_components,2)\n",
      "[[12. 17.]\n",
      " [ 7. 14.]\n",
      " [14. 15.]\n",
      " [10. 16.]\n",
      " [ 9. 10.]\n",
      " [17. 13.]\n",
      " [12. 13.]\n",
      " [16. 11.]\n",
      " [17. 13.]\n",
      " [16. 11.]]\n"
     ]
    }
   ],
   "source": [
    "print('\\ncomponents_set (number_of_components)')\n",
    "print(components_set)\n",
    "\n",
    "print('\\nnet_matrix (number_of_nets,number_of_components)')\n",
    "print(net_matrix)\n",
    "\n",
    "print('\\nadjacency_matrix (number_of_components,number_of_components)')\n",
    "print(adjacency_matrix)\n",
    "\n",
    "print('\\nposition_array (number_of_components,2)')\n",
    "print(position_array)\n",
    "\n",
    "print('\\ndimension_array (number_of_components,2)')\n",
    "print(dimension_array)"
   ]
  },
  {
   "cell_type": "code",
   "execution_count": 22,
   "metadata": {},
   "outputs": [
    {
     "name": "stdout",
     "output_type": "stream",
     "text": [
      "\n",
      "pin_set (number_of_pins)\n",
      "{'QMR_37', 'XNH_63', 'DNX_88', 'KCC_19', 'BOR_97', 'EIS_55', 'CJQ_70', 'GOT_07', 'OWB_23', 'YFI_69'}\n",
      "\n",
      "net_matrix (number_of_nets,number_of_pins)\n",
      "[[1 1 1 0 0 0 0 0 0 1]\n",
      " [0 0 0 0 0 0 1 0 0 0]\n",
      " [0 0 0 0 0 0 1 0 0 0]\n",
      " [0 0 1 0 0 0 1 0 1 0]]\n",
      "\n",
      "adjacency_matrix (number_of_pins,number_of_pins)\n",
      "[[0. 1. 1. 0. 0. 0. 0. 0. 0. 1.]\n",
      " [1. 0. 1. 0. 0. 0. 0. 0. 0. 1.]\n",
      " [1. 1. 0. 0. 0. 0. 1. 0. 1. 1.]\n",
      " [0. 0. 0. 0. 0. 0. 0. 0. 0. 0.]\n",
      " [0. 0. 0. 0. 0. 0. 0. 0. 0. 0.]\n",
      " [0. 0. 0. 0. 0. 0. 0. 0. 0. 0.]\n",
      " [0. 0. 1. 0. 0. 0. 0. 0. 1. 0.]\n",
      " [0. 0. 0. 0. 0. 0. 0. 0. 0. 0.]\n",
      " [0. 0. 1. 0. 0. 0. 1. 0. 0. 0.]\n",
      " [1. 1. 1. 0. 0. 0. 0. 0. 0. 0.]]\n",
      "\n",
      "position_array (number_of_components,2)\n",
      "[[ 85.  43.]\n",
      " [ 80.  63.]\n",
      " [121. 163.]\n",
      " [118. 122.]\n",
      " [ 90.  85.]\n",
      " [109.  84.]\n",
      " [134. 127.]\n",
      " [ 90. 125.]\n",
      " [110. 148.]\n",
      " [ 68.  52.]]\n",
      "\n",
      "dimension_array (number_of_components,2)\n",
      "[[12. 17.]\n",
      " [ 7. 14.]\n",
      " [14. 15.]\n",
      " [10. 16.]\n",
      " [ 9. 10.]\n",
      " [17. 13.]\n",
      " [12. 13.]\n",
      " [16. 11.]\n",
      " [17. 13.]\n",
      " [16. 11.]]\n"
     ]
    }
   ],
   "source": [
    "print('\\npin_set (number_of_pins)')\n",
    "print(components_set)\n",
    "\n",
    "print('\\nnet_matrix (number_of_nets,number_of_pins)')\n",
    "print(net_matrix)\n",
    "\n",
    "print('\\nadjacency_matrix (number_of_pins,number_of_pins)')\n",
    "print(adjacency_matrix)\n",
    "\n",
    "print('\\nposition_array (number_of_components,2)')\n",
    "print(position_array)\n",
    "\n",
    "print('\\ndimension_array (number_of_components,2)')\n",
    "print(dimension_array)"
   ]
  },
  {
   "cell_type": "markdown",
   "metadata": {},
   "source": [
    "### Plotting initial data"
   ]
  },
  {
   "cell_type": "code",
   "execution_count": 23,
   "metadata": {
    "scrolled": false
   },
   "outputs": [
    {
     "data": {
      "image/png": "[encoded data removed]",
      "text/plain": [
       "<Figure size 640x640 with 1 Axes>"
      ]
     },
     "metadata": {},
     "output_type": "display_data"
    }
   ],
   "source": [
    "# Create dataframe\n",
    "df = pd.DataFrame({\n",
    "    'x': position_array[:,0],\n",
    "    'y': position_array[:,1],\n",
    "    'w': dimension_array[:,0],\n",
    "    'h': dimension_array[:,1],\n",
    "    'group': list(components_set)\n",
    "})\n",
    " \n",
    "plt.figure(num=None, figsize=(8, 8), dpi=80, facecolor='w', edgecolor='k')\n",
    "p1 = sns.scatterplot(data=df, x=\"x\", y=\"y\", marker=\"+\", color=\"blue\")\n",
    "\n",
    "\n",
    "plt.xlim(0, grid_dim[0])\n",
    "plt.ylim(0, grid_dim[1])\n",
    "\n",
    "# add annotations one by one with a loop\n",
    "for line in range(0,df.shape[0]):\n",
    "    p1.text(df.x[line]+0.2, df.y[line], df.group[line], horizontalalignment='left', size='medium', color='black')\n",
    "\n",
    "\n",
    "ax = plt.gca()\n",
    "\n",
    "for line in range(0,df.shape[0]):\n",
    "    ax.add_patch(Rectangle((df.x[line]-df.w[line]/2, df.y[line]-df.h[line]/2), df.w[line], df.h[line], fill=None, alpha=1,color='g'))\n",
    "plt.show()"
   ]
  },
  {
   "cell_type": "code",
   "execution_count": null,
   "metadata": {},
   "outputs": [],
   "source": []
  }
 ],
 "metadata": {
  "kernelspec": {
   "display_name": "Python 3",
   "language": "python",
   "name": "python3"
  },
  "language_info": {
   "codemirror_mode": {
    "name": "ipython",
    "version": 3
   },
   "file_extension": ".py",
   "mimetype": "text/x-python",
   "name": "python",
   "nbconvert_exporter": "python",
   "pygments_lexer": "ipython3",
   "version": "3.7.6"
  }
 },
 "nbformat": 4,
 "nbformat_minor": 4
}
