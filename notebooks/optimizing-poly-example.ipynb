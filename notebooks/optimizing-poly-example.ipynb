{
 "cells": [
  {
   "cell_type": "code",
   "execution_count": 16,
   "metadata": {},
   "outputs": [
    {
     "data": {
      "text/html": [
       "<style>.container { width:80% !important; }</style>"
      ],
      "text/plain": [
       "<IPython.core.display.HTML object>"
      ]
     },
     "metadata": {},
     "output_type": "display_data"
    }
   ],
   "source": [
    "from IPython.core.display import display, HTML\n",
    "display(HTML(\"<style>.container { width:80% !important; }</style>\"))"
   ]
  },
  {
   "cell_type": "code",
   "execution_count": 17,
   "metadata": {},
   "outputs": [],
   "source": [
    "import numpy as np\n",
    "import tensorflow as tf\n",
    "import matplotlib.pyplot as plt\n",
    "from tensorflow.keras import layers"
   ]
  },
  {
   "cell_type": "code",
   "execution_count": 18,
   "metadata": {},
   "outputs": [],
   "source": [
    "plt.ion()"
   ]
  },
  {
   "cell_type": "code",
   "execution_count": 19,
   "metadata": {},
   "outputs": [
    {
     "data": {
      "image/png": "[encoded data removed]",
      "text/plain": [
       "<Figure size 432x288 with 1 Axes>"
      ]
     },
     "metadata": {
      "needs_background": "light"
     },
     "output_type": "display_data"
    }
   ],
   "source": [
    "n_observations = 100\n",
    "fig, ax = plt.subplots(1,1)\n",
    "xs = np.linspace(-3,3, n_observations)\n",
    "ys = np.sin(xs) + np.random.uniform(-0.5,0.5,n_observations)\n",
    "ax.scatter(xs,ys)\n",
    "fig.show()\n",
    "plt.draw()"
   ]
  },
  {
   "cell_type": "code",
   "execution_count": 20,
   "metadata": {},
   "outputs": [],
   "source": [
    "# pows=tf.Variable(initial_value=np.linspace(0, 5, num=5, endpoint=False), dtype=tf.float32)\n",
    "# inputs=tf.Variable(initial_value=tf.ones(5),dtype=tf.float32)\n",
    "# weights=tf.Variable(initial_value=tf.random.uniform([5]),dtype=tf.float32)\n",
    "# tf.math.multiply(tf.math.pow(inputs, pows, name=None),weights)"
   ]
  },
  {
   "cell_type": "code",
   "execution_count": 21,
   "metadata": {},
   "outputs": [
    {
     "name": "stdout",
     "output_type": "stream",
     "text": [
      "tf.Tensor([-0.05413514], shape=(1,), dtype=float32)\n"
     ]
    }
   ],
   "source": [
    "from tensorflow.keras import layers\n",
    "\n",
    "class PolyLayer(layers.Layer):\n",
    "    \"\"\"\n",
    "    Create a polynomial layer that can accept\n",
    "    num_vals: number of different polys\n",
    "    order: order of the polynomial\n",
    "        if order=2: poly=w1*x+b\n",
    "        if order=3: poly=w2*x^2+w1*x+b\n",
    "    \"\"\"\n",
    "\n",
    "    def __init__(self, num_vals=1, order=1):\n",
    "        super(PolyLayer, self).__init__()\n",
    "        self.order = order\n",
    "        w_init = tf.random_normal_initializer()\n",
    "        self.w = tf.Variable(initial_value=w_init(shape=(num_vals,self.order),\n",
    "                                                  dtype='float32'),trainable=True, name=\"weights\")\n",
    "        \n",
    "        # No need for a special bias variable because pow(x,0)=1 which represents the bias\n",
    "        #b_init = tf.zeros_initializer()\n",
    "        #self.b = tf.Variable(initial_value=b_init(shape=(num_vals,),\n",
    "        #                                          dtype='float32'), trainable=True, name=\"bias\")\n",
    "    \n",
    "        \n",
    "        self.pows=tf.constant(np.linspace(0, self.order, num=self.order, endpoint=False),dtype=tf.float32)\n",
    "\n",
    "    def call(self, inputs):\n",
    "        \"\"\" Implements w0+w1*x1+w2*x2^2+w3*x3^3+... \"\"\"\n",
    "        #return inputs\n",
    "        #return tf.math.pow(inputs, self.pows, name=None)\n",
    "        #return tf.math.multiply(tf.math.pow(inputs, self.pows, name=None),self.w)\n",
    "        #return tf.reduce_sum(tf.math.multiply(tf.math.pow(inputs, self.pows, name=None),self.w),1)\n",
    "        \n",
    "        out = tf.math.pow(inputs, self.pows, name=None)\n",
    "        out = tf.math.multiply(out,self.w)\n",
    "        out = tf.reduce_sum(out,1)\n",
    "        #out = tf.add(out,self.b)\n",
    "        return out\n",
    "    \n",
    "        #return tf.reduce_sum(tf.math.multiply(tf.math.pow(inputs, pows, name=None),weights),0)\n",
    "\n",
    "num_vals=1\n",
    "order=1\n",
    "x = tf.ones((num_vals,1))*2\n",
    "poly_layer = PolyLayer(num_vals=num_vals,order=order)\n",
    "y = poly_layer(x)\n",
    "print(y)\n"
   ]
  },
  {
   "cell_type": "code",
   "execution_count": 57,
   "metadata": {},
   "outputs": [],
   "source": [
    "# Create model\n",
    "model = tf.keras.Sequential()\n",
    "model.add(PolyLayer(1,4))"
   ]
  },
  {
   "cell_type": "code",
   "execution_count": 58,
   "metadata": {},
   "outputs": [],
   "source": [
    "# Configure a model for Regression with MSE loss.\n",
    "model.compile(optimizer=tf.keras.optimizers.Adam(0.01),\n",
    "              loss='mse',       # mean squared error\n",
    "              metrics=['mae'])  # mean absolute error"
   ]
  },
  {
   "cell_type": "code",
   "execution_count": 54,
   "metadata": {},
   "outputs": [],
   "source": [
    "# Configure a model for Regression with MSE loss\n",
    "#model.compile(optimizer=tf.keras.optimizers.RMSprop(lr=0.1),\n",
    "#              loss='mse', metrics=['mae'])"
   ]
  },
  {
   "cell_type": "code",
   "execution_count": 59,
   "metadata": {},
   "outputs": [
    {
     "name": "stdout",
     "output_type": "stream",
     "text": [
      "Train on 100 samples\n",
      "Epoch 1/10\n",
      "100/100 [==============================] - 0s 2ms/sample - loss: 0.4107 - mae: 0.5601\n",
      "Epoch 2/10\n",
      "100/100 [==============================] - 0s 778us/sample - loss: 0.2463 - mae: 0.4059\n",
      "Epoch 3/10\n",
      "100/100 [==============================] - 0s 800us/sample - loss: 0.1691 - mae: 0.3425\n",
      "Epoch 4/10\n",
      "100/100 [==============================] - 0s 760us/sample - loss: 0.1462 - mae: 0.3075\n",
      "Epoch 5/10\n",
      "100/100 [==============================] - 0s 772us/sample - loss: 0.1110 - mae: 0.2744\n",
      "Epoch 6/10\n",
      "100/100 [==============================] - 0s 766us/sample - loss: 0.0938 - mae: 0.2568\n",
      "Epoch 7/10\n",
      "100/100 [==============================] - 0s 775us/sample - loss: 0.1200 - mae: 0.2805\n",
      "Epoch 8/10\n",
      "100/100 [==============================] - 0s 765us/sample - loss: 0.1186 - mae: 0.2728\n",
      "Epoch 9/10\n",
      "100/100 [==============================] - 0s 824us/sample - loss: 0.1054 - mae: 0.2620\n",
      "Epoch 10/10\n",
      "100/100 [==============================] - 0s 774us/sample - loss: 0.1171 - mae: 0.2731\n"
     ]
    },
    {
     "data": {
      "text/plain": [
       "<tensorflow.python.keras.callbacks.History at 0x7fa4bc35ff10>"
      ]
     },
     "execution_count": 59,
     "metadata": {},
     "output_type": "execute_result"
    }
   ],
   "source": [
    "data = xs\n",
    "labels = ys\n",
    "\n",
    "model.fit(data, labels, epochs=10, batch_size=1)"
   ]
  },
  {
   "cell_type": "code",
   "execution_count": 56,
   "metadata": {},
   "outputs": [
    {
     "data": {
      "image/png": "[encoded data removed]",
      "text/plain": [
       "<Figure size 432x288 with 1 Axes>"
      ]
     },
     "metadata": {
      "needs_background": "light"
     },
     "output_type": "display_data"
    }
   ],
   "source": [
    "# Printing the figure using the np poly and our coeficients\n",
    "fig, ax = plt.subplots(1,1)\n",
    "ys_pred = model.predict(data) # Predicts the data with our model\n",
    "ax.scatter(xs,ys)\n",
    "ax.scatter(xs,ys_pred)\n",
    "fig.show()\n",
    "plt.draw()"
   ]
  },
  {
   "cell_type": "code",
   "execution_count": 70,
   "metadata": {},
   "outputs": [
    {
     "name": "stdout",
     "output_type": "stream",
     "text": [
      "Model: \"sequential_7\"\n",
      "_________________________________________________________________\n",
      "Layer (type)                 Output Shape              Param #   \n",
      "=================================================================\n",
      "poly_layer_7 (PolyLayer)     multiple                  4         \n",
      "=================================================================\n",
      "Total params: 4\n",
      "Trainable params: 4\n",
      "Non-trainable params: 0\n",
      "_________________________________________________________________\n"
     ]
    }
   ],
   "source": [
    "# Model summary\n",
    "model.summary()"
   ]
  },
  {
   "cell_type": "code",
   "execution_count": 65,
   "metadata": {},
   "outputs": [
    {
     "name": "stdout",
     "output_type": "stream",
     "text": [
      "[[ 0.03726155  0.84089744  0.00435605 -0.06840243]]\n"
     ]
    }
   ],
   "source": [
    "# The weights increase in the polynomial order.\n",
    "fitted_weights = model.layers[0].weights[0].numpy()\n",
    "print(fitted_weights)"
   ]
  },
  {
   "cell_type": "code",
   "execution_count": 68,
   "metadata": {},
   "outputs": [],
   "source": [
    "# Thus it is necesary to reverse the array to pass it to numpy poly\n",
    "poly=np.poly1d(np.flip(fitted_weights[0]))"
   ]
  },
  {
   "cell_type": "code",
   "execution_count": 69,
   "metadata": {},
   "outputs": [
    {
     "data": {
      "image/png": "[encoded data removed]",
      "text/plain": [
       "<Figure size 432x288 with 1 Axes>"
      ]
     },
     "metadata": {
      "needs_background": "light"
     },
     "output_type": "display_data"
    }
   ],
   "source": [
    "# Printing the figure using the np poly and our coeficients\n",
    "fig, ax = plt.subplots(1,1)\n",
    "ypoly_pred = poly(data) # Predicts the data with our model\n",
    "ax.scatter(xs,ys)\n",
    "ax.scatter(xs,ypoly_pred)\n",
    "fig.show()\n",
    "plt.draw()"
   ]
  },
  {
   "cell_type": "code",
   "execution_count": null,
   "metadata": {},
   "outputs": [],
   "source": []
  }
 ],
 "metadata": {
  "kernelspec": {
   "display_name": "Python 3",
   "language": "python",
   "name": "python3"
  },
  "language_info": {
   "codemirror_mode": {
    "name": "ipython",
    "version": 3
   },
   "file_extension": ".py",
   "mimetype": "text/x-python",
   "name": "python",
   "nbconvert_exporter": "python",
   "pygments_lexer": "ipython3",
   "version": "3.7.6"
  }
 },
 "nbformat": 4,
 "nbformat_minor": 4
}
